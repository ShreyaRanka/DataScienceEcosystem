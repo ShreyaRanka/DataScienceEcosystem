{
 "cells": [
  {
   "cell_type": "markdown",
   "id": "79745f81-52ce-49c3-ae1b-c550232e7110",
   "metadata": {},
   "source": [
    "# Data Science Tools and Ecosystem"
   ]
  },
  {
   "cell_type": "markdown",
   "id": "e8e8f264-4a64-48df-a725-8d02d92860d7",
   "metadata": {},
   "source": [
    "## Introduction "
   ]
  },
  {
   "cell_type": "markdown",
   "id": "af612473-8a17-46e8-a619-62c5cc5976e1",
   "metadata": {},
   "source": [
    "In this notebook, Data Science Tools and Ecosystem are summarized."
   ]
  },
  {
   "cell_type": "markdown",
   "id": "5dfbb8fb-bda9-4ac9-8ade-a33127158c81",
   "metadata": {},
   "source": [
    "## Some of the popular languages that Data Scientists use are:"
   ]
  },
  {
   "cell_type": "markdown",
   "id": "678079d6-0c6f-4a03-a23f-61fc86e3e1e5",
   "metadata": {},
   "source": [
    "1. Python\n",
    "2. Java\n",
    "3. C\n",
    "4. C++\n"
   ]
  },
  {
   "cell_type": "markdown",
   "id": "56e56d02-4f05-4129-b55e-725853b53d78",
   "metadata": {},
   "source": [
    "## Some of the commonly used libraries used by Data Scientists include:"
   ]
  },
  {
   "cell_type": "markdown",
   "id": "2ddbef05-7058-4a2d-b128-297ce4abbda0",
   "metadata": {},
   "source": [
    "1. Numpy\n",
    "2. TensorFlow\n",
    "3. Pandas\n",
    "4. Scipy\n",
    "5. Matplotlib"
   ]
  },
  {
   "cell_type": "markdown",
   "id": "fe0ad8ea-e2ec-46c9-b1ee-a3289ae4bf63",
   "metadata": {},
   "source": [
    "## Data Science Tools"
   ]
  },
  {
   "cell_type": "markdown",
   "id": "e2462ed8-1b91-432e-8980-5471641c35b6",
   "metadata": {
    "tags": []
   },
   "source": [
    "|Data Science Tools|\n",
    "|---------|\n",
    "|Python|\n",
    "|SQL|\n",
    "|Hadoop|\n",
    "|Jupyter|\n"
   ]
  },
  {
   "cell_type": "markdown",
   "id": "be8a80f8-9245-423d-9245-7f27943beb00",
   "metadata": {},
   "source": [
    "### Below are a few examples of evaluating arithmetic expressions in Python."
   ]
  },
  {
   "cell_type": "code",
   "execution_count": 2,
   "id": "5f10c4b9-e78c-45e1-ad34-6184c733fa76",
   "metadata": {
    "tags": []
   },
   "outputs": [
    {
     "data": {
      "text/plain": [
       "14"
      ]
     },
     "execution_count": 2,
     "metadata": {},
     "output_type": "execute_result"
    }
   ],
   "source": [
    "5+9"
   ]
  },
  {
   "cell_type": "code",
   "execution_count": 3,
   "id": "00b53154-f101-444a-8559-d66c54c5d0cf",
   "metadata": {
    "tags": []
   },
   "outputs": [
    {
     "data": {
      "text/plain": [
       "108"
      ]
     },
     "execution_count": 3,
     "metadata": {},
     "output_type": "execute_result"
    }
   ],
   "source": [
    "12*9"
   ]
  },
  {
   "cell_type": "markdown",
   "id": "cb12fbb9-e82a-47db-9463-68cde2e29dcf",
   "metadata": {
    "tags": []
   },
   "source": [
    "This is a simple arithmetic expression to multiply then add integers."
   ]
  },
  {
   "cell_type": "code",
   "execution_count": 7,
   "id": "db7227b8-c25a-43cc-8075-14ccb3f92226",
   "metadata": {
    "tags": []
   },
   "outputs": [
    {
     "data": {
      "text/plain": [
       "17"
      ]
     },
     "execution_count": 7,
     "metadata": {},
     "output_type": "execute_result"
    }
   ],
   "source": [
    "(3*4)+5"
   ]
  },
  {
   "cell_type": "markdown",
   "id": "eab39fd4-9b2c-4cd4-a838-362bd839c3ee",
   "metadata": {
    "tags": []
   },
   "source": [
    "This will convert 200 minutes to hours by dividing by 60"
   ]
  },
  {
   "cell_type": "code",
   "execution_count": 9,
   "id": "da29c99e-825b-4c06-b18d-840d581836f0",
   "metadata": {
    "tags": []
   },
   "outputs": [
    {
     "data": {
      "text/plain": [
       "3.3333333333333335"
      ]
     },
     "execution_count": 9,
     "metadata": {},
     "output_type": "execute_result"
    }
   ],
   "source": [
    "200/60"
   ]
  },
  {
   "cell_type": "markdown",
   "id": "5225165c-61f2-4b53-84a5-a48766e49b41",
   "metadata": {},
   "source": [
    "**Objectives:**\n",
    "\n",
    "- List popular languages for Data Science\n",
    "- Identify key tools for data manipulation and analysis\n",
    "- Understand the different types of data visualization techniques\n",
    "- Learn about machine learning and statistical modeling tools\n",
    "- Explore big data technologies and cloud platforms"
   ]
  },
  {
   "cell_type": "markdown",
   "id": "d54c5172-e8d9-42b2-a6f0-79f108c89df2",
   "metadata": {},
   "source": [
    "## Author\n",
    "   Shreya Ranka"
   ]
  },
  {
   "cell_type": "code",
   "execution_count": null,
   "id": "d9c3e42d-6a03-4149-a4bd-7c08229a8f44",
   "metadata": {},
   "outputs": [],
   "source": []
  }
 ],
 "metadata": {
  "kernelspec": {
   "display_name": "Python",
   "language": "python",
   "name": "conda-env-python-py"
  },
  "language_info": {
   "codemirror_mode": {
    "name": "ipython",
    "version": 3
   },
   "file_extension": ".py",
   "mimetype": "text/x-python",
   "name": "python",
   "nbconvert_exporter": "python",
   "pygments_lexer": "ipython3",
   "version": "3.7.12"
  }
 },
 "nbformat": 4,
 "nbformat_minor": 5
}
